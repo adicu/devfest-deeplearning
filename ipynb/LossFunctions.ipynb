{
 "cells": [
  {
   "cell_type": "markdown",
   "metadata": {
    "colab_type": "text",
    "id": "7Qq8kTPXe2av"
   },
   "source": [
    "# Loss Functions\n",
    "---\n",
    "## Motivation\n",
    "At this point, you should understand how perceptrons can pass information through a neural network. If a network of perceptrons is the performer on stage delivering the flashy results of deep learning, loss functions are the critics in the audience who can evaluate the result with a standard. As we will see in the next section, networks take the feedback produced by loss functions in order to update their weights (_Note_:  This implies that we have talked about weights in the feed forward section) and produce incrementally better output.\n",
    "\n",
    "## Purpose of a Loss Function\n",
    "A loss function provides a measure of the accuracy of the network.  We usually  have some function $g(a)$  that takes as input some neural network $a$ and compares the output of $a$ over all input values $x$ to the true label of $x$. When $g \\approx 0$ then our network gives very accurate estimates. In this section, we provide two examples of common loss functions and the associated intuition. In the next section on gradient descent, we will see our loss functions allow networks to learn.\n",
    "\n",
    "## Mean Squared Error (MSE, $L_2$ loss)\n",
    "$$g(a) = \\frac{1}{2n} \\sum_{x} \\|y(x) - a(x)\\|^2$$\n",
    "where $y(x)$ is the true label of input value $x$ and $n$ is the number of samples. The MSE simple finds the normed difference between the true value and predicted value of an input value as represented by the summand $\\|y(x) - a(x)\\|^2$. Remember that the output of the neural network and the true labels are **vectors** that correspond to a probability distribution over each possible label. Thus, if our network performs well, we expect that the normed distance between $a(x)$ and $y(x)$ will be close to 0. Taking the summation over all possible $x$ and normalizing over $2n$ gives us the final error value.\n",
    "\n",
    "## Cross Entropy\n",
    "\n",
    "$$g(a) = -\\frac{1}{n} \\sum_x [y(x) \\ln a(x)  + (1 - y(x))\\ln ( 1- a(x))]$$ \n",
    "Cross Entropy loss is one of the most popular loss functions used in modern Deep Learning architectures. At first glance cross entropy loss makes a lot less intuitive sense than MSE – it isn't even clear that this is a proper loss function. We shall see in the next section, however, that the first derivative of Cross Entropy has some nice properties that give it a \"good\" learning rate. **NOTE:** Cross Entropy, from a high level point of view, computes the difference in information needed to express the true distribution of labels from the predicted distribution of labels. Further we see that\n",
    "1. Cross Entropy is always greater than 0.\n",
    "2. When $a(x)$ approaches $y(x)$ Cross Entropy tends to zero.\n",
    "\n",
    "Note that these two properties are also characteristic of the MSE.\n",
    "\n",
    "## Conclusion\n",
    "\n",
    "The important takeaway from this section is to understand the [purpose](#purpose-of-a-loss-function) of the loss function. In the next section we will see how we can find the gradient of a loss function in order to \"teach\" our neural network. We will then introduce backpropagation, the key idea that enables learning to efficiently and powerfully propagate thorughout all layers of our network!\n",
    "\n",
    "---\n",
    "\n",
    "_Notes_: LF really need to be understood in the context of gradient descent so not sure if we should introduce them **before** or **after** @Jessie's section. Conceptually, loss functions as an isolated concept is pretty simple – they are a set of (preferably smooth) functions that evaluate the effectiveness of an algorithms performance on a specific problem. Seems like it'll be a relatively small section"
   ]
  },
  {
   "cell_type": "code",
   "execution_count": null,
   "metadata": {
    "colab": {},
    "colab_type": "code",
    "id": "Ewh8KpQde00_"
   },
   "outputs": [],
   "source": []
  }
 ],
 "metadata": {
  "colab": {
   "collapsed_sections": [],
   "name": "LossFunctions.ipynb",
   "provenance": [],
   "version": "0.3.2"
  },
  "kernelspec": {
   "display_name": "Python 3",
   "language": "python",
   "name": "python3"
  },
  "language_info": {
   "codemirror_mode": {
    "name": "ipython",
    "version": 3
   },
   "file_extension": ".py",
   "mimetype": "text/x-python",
   "name": "python",
   "nbconvert_exporter": "python",
   "pygments_lexer": "ipython3",
   "version": "3.5.2"
  }
 },
 "nbformat": 4,
 "nbformat_minor": 2
}
