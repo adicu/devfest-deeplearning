{
 "cells": [
  {
   "cell_type": "markdown",
   "metadata": {
    "colab_type": "text",
    "id": "5oEkhqKmdWsq"
   },
   "source": [
    "# Feedforward networks\n",
    "Now that we have covered perceptrons and activation functions, we can put them together to create _feedforward neural networks_.\n",
    "\n",
    "![](https://cs.stanford.edu/people/eroberts/courses/soco/projects/neural-networks/Architecture/images/feedforward.jpg)\n",
    "\n",
    "These networks are important in deep learning models to approximate functions. They're called \"feedforward\" because information is passed forward through the network and is not passed backwards. (When information is also passed backwards, the network is called a recurrent neural network).\n",
    "\n",
    "### Structure\n",
    "Feedforward nets (short for networks) consist of _layers_ of perceptrons. Perceptrons are commonly called nodes in the context of neural networks.The simplest feedforward net consists of a single layer of nodes.\n",
    "\n",
    " All nodes in a _layer_ are connected to every other node in the previous layer, though different connections may have different weights. Information (data) is passed through each layer of nodes until it gets output through the output layer. _Hidden layers_ are all layers before the _output layer_. \n",
    " \n",
    " ![](http://www.fon.hum.uva.nl/praat/manual/Feedforward_neural_networks_1__What_is_a_feedforward_ne_1.png)\n",
    " \n",
    " In the image above, there are three inputs (shown as hollow circles), which are passed into a hidden layer with 4 nodes, and the outputs of that layer are passed as inputs into the final output layer, with 5 nodes. Each connection, additionally, has its own weight. We would say this network has two layers.\n",
    " \n",
    "#### Image source\n",
    "http://www.fon.hum.uva.nl/praat/manual/Feedforward_neural_networks_1__What_is_a_feedforward_ne.html"
   ]
  },
  {
   "cell_type": "code",
   "execution_count": null,
   "metadata": {
    "colab": {},
    "colab_type": "code",
    "id": "4RN8KjcldY2o"
   },
   "outputs": [],
   "source": []
  }
 ],
 "metadata": {
  "colab": {
   "name": "feedforward nets.ipynb",
   "provenance": [],
   "version": "0.3.2"
  },
  "kernelspec": {
   "display_name": "Python 3",
   "language": "python",
   "name": "python3"
  },
  "language_info": {
   "codemirror_mode": {
    "name": "ipython",
    "version": 3
   },
   "file_extension": ".py",
   "mimetype": "text/x-python",
   "name": "python",
   "nbconvert_exporter": "python",
   "pygments_lexer": "ipython3",
   "version": "3.5.2"
  }
 },
 "nbformat": 4,
 "nbformat_minor": 2
}
