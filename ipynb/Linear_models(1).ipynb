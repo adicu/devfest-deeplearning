{
 "cells": [
  {
   "cell_type": "markdown",
   "metadata": {
    "colab_type": "text",
    "id": "LotyLF2wnkrI"
   },
   "source": [
    "# Linear models"
   ]
  },
  {
   "cell_type": "markdown",
   "metadata": {
    "colab_type": "text",
    "id": "aRoQ_KE5QfOv"
   },
   "source": [
    "Machine learning is about learning patterns from data. _Deep learning_ is a subset of machine learning, where we'll build neural networks to identify patterns. We'll first need a strong understanding of _linear models_.\n",
    "\n",
    "> ### What's a linear model?\n",
    "> A _linear model_ is simply an equation where each term is either:\n",
    "  - a constant, or\n",
    "  - a product of a parameter and a variable\n",
    "\n",
    "> For example, $ax + b = 0$ and $ax^2 + bx + c = 0$ are both linear models where $x$ is a variable  and $a, b, c$ are constant terms. \n",
    "\n",
    "> Despite the $x^2$ term, $ax^2+bx+c = 0$ is a linear model because the model is linear in the _parameter_ $x^2$: we multiply it by some constant $a$. If this is confusing, imagine setting $x' = x^2$ and substituting it into the model: then our model is $ax' + bx +c = 0$, which is easier to identify as linear.\n",
    "\n",
    "We'll find out soon that the core of all neural networks is a set of nonlinear functions. This nonlinearity makes neural networks - as you might have heard - very powerful. Soon we'll build those nonlinear functions ourselves.\n",
    "\n",
    "First, we need to build a few linear functions. Then we can transform them into a powerful nonlinear form. "
   ]
  },
  {
   "cell_type": "markdown",
   "metadata": {
    "colab_type": "text",
    "id": "YVLvVpmCoio-"
   },
   "source": [
    "## Lines in higher dimensions\n",
    "Most students will be familiar with the equation of a line. For example, $y = -2x$ is an equation for a line. Rewriting this equation lets us generalize the line equation to higher dimensions. First, convert into the normal form, $2x + y = 0$. Then, we can represent the normal form as the dot product $\\big\\langle (2,1), (x,y) \\big\\rangle = 0$.\n",
    "Finally, we can represent all lines passing through any point by adding a _bias_ weight. The _bias_ is a constant; for example, the line equations\n",
    "$$\n",
    "\\big\\langle (2,1), (x,y) \\big\\rangle -1 = 0 \\\\\n",
    "2x + y = 1 \\\\\n",
    "y = -2x + 1\n",
    "$$\n",
    "are equivalent. Finally, we can generalize this linear model to the form most popular in machine learning:\n",
    "$$\n",
    "w^Tx + b = 0\n",
    "$$\n",
    "which expands to the equation of a _hyperplane_: $w_1x_1 + w_2x_2 + \\dots + w_nx_n + b = 0$. That looks uncoincidentally like our original line equation, but now in $n$ dimensions: in fact, a point is a _hyperplane_ in $1$-dimensional space, a line is a _hyperplane_ in $2$-dimensional space, and a plane is a _hyperplane_ in $3$-dimensional space.\n"
   ]
  },
  {
   "cell_type": "markdown",
   "metadata": {
    "colab_type": "text",
    "id": "FKMWP97KNrqt"
   },
   "source": [
    "> ### The hyperplane\n",
    "> _Hyperplane_: A subspace that separates a vector space into two parts. A linear equation for a _hyperplane_ lets us perform classification (for two classes) easily: an input we want to classify as class $0$ or class $1$ is either above or below the _hyperplane_.\n",
    "\n",
    "> Formally, a _hyperplane_ is a subspace of dimension $n-1$ inside an $n$-dimensional space.\n",
    "\n",
    " >> ![](https://i.imgur.com/QCDR8MU.png)\n",
    " >> __Left:__ a line is a hyperplane in $2$-D space. __Right__: a plane is a hyperplane in $3$-D space."
   ]
  },
  {
   "cell_type": "markdown",
   "metadata": {
    "colab_type": "text",
    "id": "06jFswuFtBP0"
   },
   "source": [
    "### Classification using hyperplanes"
   ]
  },
  {
   "cell_type": "markdown",
   "metadata": {
    "colab_type": "text",
    "id": "LCni4yzRt_hH"
   },
   "source": [
    "A _decision function_ performs classification: given a point, it classifies that point as belonging to a certain set. \n",
    "\n",
    "Let's define a function $f:\\mathbb{R}^n\\rightarrow \\mathbb{R}$. If you're not familiar with this notation, it just means that $f$ takes an $n$-dimensional input, and outputs a real number. We'll define $f$ using our hyperplane equation.\n",
    "$$\n",
    "f(x) = w^T x + b\n",
    "$$\n",
    "Then two points --- let's call them $x_1, x_2$ ---  located on opposite sides of that hyperplane will together satisfy one of the following inequalities:\n",
    "$$\n",
    "f(x_1) < 0 < f(x_2) \\\\\n",
    "f(x_2) < 0 < f(x_1)\n",
    "$$\n",
    "\n",
    "So our _decision function_ could be as concise as $sign\\big(f(x)\\big)$, since that function outputs whether $f(x) > 0$ or $f(x) < 0$."
   ]
  },
  {
   "cell_type": "markdown",
   "metadata": {
    "colab_type": "text",
    "id": "M65fsrr1n95H"
   },
   "source": [
    "## Perceptron algorithm"
   ]
  },
  {
   "cell_type": "markdown",
   "metadata": {
    "colab_type": "text",
    "id": "RX1FgjwnoFqb"
   },
   "source": [
    "\n",
    "\n",
    "The __perceptron__ is a learning algorithm. It finds a separating _hyperplane_ by minimizing the distance of misclassified points to the _decision boundary_.\n",
    "\n",
    "### Training\n",
    "\n",
    "All machine learning models need to be trained (fitted) to adjust their parameters and learn from a dataset. The perceptron is no exception. A perceptron finds its separating hyperplane $f(x) = w^T x + b$ by repeating two steps:\n",
    "1. Check if the separating hyperplane misclassified (made a mistake on) any point.\n",
    "2. If so, _update_ the coefficient vector ($w$) and bias ($b$) to remove that mistake.\n",
    "\n",
    "The algorithm stops once all points are correctly classified. We can _update_ $w$ and $b$ to fix a mistaken classification using the following rule:\n",
    "\n",
    "#### Perceptron update rule\n",
    "Let $x= $ an input point (e.g. a column vector), and $y \\in \\{0, 1\\}= $ the ground truth label for that point. $f(x)$ satisfies one of three conditions:\n",
    "1. If $f(x) = y$, then $f(x)$ made no mistake; no change.\n",
    "2. If $f(x) = 1$ but $y=0$, then $w \\leftarrow w-x$.\n",
    "3. If $f(x) = 0$ but $y=1$, then $w \\leftarrow w+x$.\n",
    "\n",
    "We can condense this update rule further by observing that the expression $\\big(y-f(x)\\big)\\in \\{ -1, 1\\}$ whenever $f(x)$ has made a mistake. Condensing (2.) and (3.):\n",
    "\n",
    "1. If $f(x) = y$, no change\n",
    "2. Else $w \\leftarrow w + \\big(y-f(x)\\big)\\cdot x$\n",
    "\n",
    "This update rule pushes the hyperplane closer to any point misclassified by the perceptron. Perceptron convergence is guaranteed for any _linearly separable_ dataset.\n",
    "\n",
    "#### Simplifying out $b$\n",
    "You'll notice we omitted any mention of the bias term $b$ in the update rule. For simplicity, linear models often append the bias term to the weight vector $w$. Appending $1$ to an input point $x$ lets us effectively compute the bias term using our dot product:\n",
    "\n",
    "\\begin{align*}\n",
    "w := \\begin{bmatrix}w_0\\\\w_1\\\\ \\vdots \\\\ w_n \\end{bmatrix} \\quad x := \\begin{bmatrix} x_0\\\\x_1\\\\ \\vdots \\\\ x_n\\end{bmatrix} & \\quad \\quad \\quad\n",
    "w' := \\begin{bmatrix}w_0\\\\w_1\\\\ \\vdots \\\\ w_n \\\\ b \\end{bmatrix} \\quad x' := \\begin{bmatrix} x_0\\\\x_1\\\\ \\vdots \\\\ x_n \\\\ 1\\end{bmatrix} \\\\ \\\\\n",
    "\\langle w', x' \\rangle &= w_0 x_0 + w_1 x_1 + \\dots + w_n x_n + b(1) \\\\\n",
    "&= \\langle w, x \\rangle + b\n",
    "\\end{align*}\n"
   ]
  },
  {
   "cell_type": "markdown",
   "metadata": {
    "colab_type": "text",
    "id": "8gtfayJdq30i"
   },
   "source": [
    "### Psuedocode\n",
    "\n",
    "```\n",
    "X, y = training_data, training_labels\n",
    "w = [0, 0, ..., 0]\n",
    "b = 0\n",
    "while(any points misclassified):\n",
    "    for each (x, y) in (X, Y):\n",
    "         f = w^T * x\n",
    "         w = w + (y-f)*x\n",
    "```\n",
    "\n",
    "This version of the perceptron algorithm is considered the _Rosenblatt perceptron_. Other variations of the perceptron allow you to set a _hyperparameter_ $\\eta$ (_eta_) which controls the rate of convergence of the separating hyperplane. Deep learning texts often refer to $\\eta$ as the _learning rate_, since the $\\eta$ term directly affects the rate at which an algorithm updates.\n",
    "\n",
    "The learning rate $\\eta$ does this by scaling the update rule: instead of setting $w \\leftarrow w+\\big(y - f(x)\\big)\\cdot x$, we set $w \\leftarrow w + \\eta\\big(y-f(x)\\big)\\cdot x$. A larger $\\eta$ (e.g. $\\eta > 1 $) will tend to converge to a separating hyperplane faster, but also risks converging more slowly due to overshooting the decision boundary. A smaller $\\eta$ (e.g. $\\eta < 1$) will potentially find a more optimal separating hyperplane (i.e. one that maximizes distance to all points), but will also take longer to converge as we need to perform more updates.\n",
    "\n",
    "We'll encounter this tradeoff between speed and cost again very soon, especially while learning about _gradient descent_."
   ]
  },
  {
   "cell_type": "markdown",
   "metadata": {
    "colab_type": "text",
    "id": "FpD7WB4onrkA"
   },
   "source": [
    "> ### Hyperparameters\n",
    "Neural networks by definition 'learn' parameters (weights) from training data. We can configure how a neural network learns by setting _hyperparameters_, which are continuous/integer-valued values manually set prior to training a model. The perceptron learning rate term $\\eta$ is a hyperparameter set by you prior to the learning process."
   ]
  },
  {
   "cell_type": "markdown",
   "metadata": {
    "colab_type": "text",
    "id": "J9nu0sgBJmTK"
   },
   "source": [
    "### Implementation\n",
    "Here's a quick `numpy` implementation."
   ]
  },
  {
   "cell_type": "code",
   "execution_count": null,
   "metadata": {
    "colab": {},
    "colab_type": "code",
    "id": "KaKaOTpQkNWD"
   },
   "outputs": [],
   "source": [
    "import matplotlib.pyplot as plt\n",
    "import numpy as np"
   ]
  },
  {
   "cell_type": "code",
   "execution_count": null,
   "metadata": {
    "colab": {},
    "colab_type": "code",
    "id": "vzjEagWvkP0v"
   },
   "outputs": [],
   "source": [
    "X = np.array([\n",
    "    [0.8, 0.4],\n",
    "    [0.3, 0.1],\n",
    "    [0.8, 0.8],\n",
    "    [0.4, 0.6],\n",
    "    [0.6, 0.8],\n",
    "    [0.4, 0.2],\n",
    "    [0.4, 0.5],\n",
    "])\n",
    "Y = np.array([0, 0, 1, 1, 1, 0, 1])"
   ]
  },
  {
   "cell_type": "code",
   "execution_count": null,
   "metadata": {
    "colab": {},
    "colab_type": "code",
    "id": "eO_H_NW9kWMg"
   },
   "outputs": [],
   "source": [
    "def plot_points(X, Y, ax, c_pos='b', c_neg='r'):\n",
    "    for i, x in enumerate(X):\n",
    "        ax.scatter(x[0], x[1], s=120, \n",
    "                   marker=('_' if Y[i] <= 0 else '+'), linewidths=2, \n",
    "                   c=(c_neg if Y[i] <= 0 else c_pos))"
   ]
  },
  {
   "cell_type": "code",
   "execution_count": null,
   "metadata": {
    "colab": {
     "base_uri": "https://localhost:8080/",
     "height": 374
    },
    "colab_type": "code",
    "id": "1JiVRH8QkSfB",
    "outputId": "f0261523-0541-4397-e00a-8c5e24a0d237"
   },
   "outputs": [
    {
     "data": {
      "image/png": "[encoded data removed]",
      "text/plain": [
       "<matplotlib.figure.Figure at 0x7fc7ab2437f0>"
      ]
     },
     "metadata": {
      "tags": []
     },
     "output_type": "display_data"
    }
   ],
   "source": [
    "fig, ax = plt.subplots(figsize=(6, 6))\n",
    "plot_points(X, Y, ax)"
   ]
  },
  {
   "cell_type": "code",
   "execution_count": null,
   "metadata": {
    "colab": {},
    "colab_type": "code",
    "id": "klEMRQYzkCZj"
   },
   "outputs": [],
   "source": [
    "def train(X, Y):\n",
    "    w = np.zeros(X.shape[1]+1)\n",
    "    epochs = 100\n",
    "    for e in range(epochs):  \n",
    "        for x, y in zip(X, Y):\n",
    "            pred = np.where((np.dot(w[:2], x)+w[2]) >= 0.0, 1, 0)\n",
    "            w[:2] += (y-pred) * x\n",
    "            w[2] += (y-pred)\n",
    "    return w\n",
    "\n",
    "def predict(w, x):\n",
    "    return np.where((np.dot(w[:2], x)+w[2]) > 0.0, 1, 0)"
   ]
  },
  {
   "cell_type": "code",
   "execution_count": null,
   "metadata": {
    "colab": {},
    "colab_type": "code",
    "id": "3YNB7kMbkJGc"
   },
   "outputs": [],
   "source": [
    "w = train(X, Y)"
   ]
  },
  {
   "cell_type": "code",
   "execution_count": null,
   "metadata": {
    "colab": {
     "base_uri": "https://localhost:8080/",
     "height": 374
    },
    "colab_type": "code",
    "id": "WMo6y9BLkewy",
    "outputId": "1333d2cc-aec5-4b39-fbdf-004f6ae329d1"
   },
   "outputs": [
    {
     "data": {
      "image/png": "[encoded data removed]",
      "text/plain": [
       "<matplotlib.figure.Figure at 0x7fc7ac67e5f8>"
      ]
     },
     "metadata": {
      "tags": []
     },
     "output_type": "display_data"
    }
   ],
   "source": [
    "fig, ax = plt.subplots(figsize=(6, 6))\n",
    "for a in range(0, 50):\n",
    "    for b in range(0, 50):\n",
    "        i, j = a/50, b/50\n",
    "        p = predict(w, [i, j])\n",
    "        ax.scatter(i, j, s=120, marker=('_' if p <= 0 else '+'), linewidths=2,\n",
    "                   c=('r' if p <= 0 else 'b'), alpha=0.5\n",
    "                   )\n",
    "plot_points(X, Y, ax, c_pos='y', c_neg='y')"
   ]
  },
  {
   "cell_type": "markdown",
   "metadata": {
    "colab_type": "text",
    "id": "7yyumVrCljwf"
   },
   "source": [
    "But linear models have limitations. In the 1980s the perceptron algorithm represented the state-of-the-art in deep learning, but it can't learn the XOR function:\n",
    "\n",
    "\\begin{align*}\n",
    "f\\big([0,1], w\\big) &= 1 \\\\\n",
    "f\\big([1,0], w\\big) &= 1 \\\\\n",
    "f\\big([1,1], w\\big) &= 0 \\\\\n",
    "f\\big([0,0], w\\big) &= 0\n",
    "\\end{align*}\n",
    "\n",
    "Limitations like these resulted in the first AI winter."
   ]
  }
 ],
 "metadata": {
  "colab": {
   "collapsed_sections": [],
   "name": "Linear models",
   "provenance": [],
   "version": "0.3.2"
  },
  "kernelspec": {
   "display_name": "Python 3",
   "language": "python",
   "name": "python3"
  },
  "language_info": {
   "codemirror_mode": {
    "name": "ipython",
    "version": 3
   },
   "file_extension": ".py",
   "mimetype": "text/x-python",
   "name": "python",
   "nbconvert_exporter": "python",
   "pygments_lexer": "ipython3",
   "version": "3.5.2"
  }
 },
 "nbformat": 4,
 "nbformat_minor": 2
}
